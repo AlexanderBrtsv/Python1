{
 "cells": [
  {
   "cell_type": "markdown",
   "id": "9c276e01",
   "metadata": {},
   "source": [
    "If condition"
   ]
  },
  {
   "cell_type": "code",
   "execution_count": 3,
   "id": "93fe044f",
   "metadata": {},
   "outputs": [
    {
     "name": "stdout",
     "output_type": "stream",
     "text": [
      "Vne bloka if\n"
     ]
    }
   ],
   "source": [
    "a = 3\n",
    "b = 2\n",
    "if a<b:\n",
    "    print(\"a menshe b\")\n",
    "print(\"Vne bloka if\")"
   ]
  },
  {
   "cell_type": "code",
   "execution_count": 6,
   "id": "2655521d",
   "metadata": {},
   "outputs": [
    {
     "name": "stdout",
     "output_type": "stream",
     "text": [
      "c libo bolshe ili ravno d\n",
      "vne bloka if\n"
     ]
    }
   ],
   "source": [
    "c = 6\n",
    "d = 4\n",
    "if c < d:\n",
    "    print(\"c menshe chem d\")\n",
    "else:\n",
    "    print(\"c libo bolshe ili ravno d\")\n",
    "print(\"vne bloka if\")"
   ]
  },
  {
   "cell_type": "code",
   "execution_count": 16,
   "id": "f951dfaa",
   "metadata": {},
   "outputs": [
    {
     "name": "stdout",
     "output_type": "stream",
     "text": [
      "e bolshe f + 10\n"
     ]
    }
   ],
   "source": [
    "e = 100\n",
    "f = 8\n",
    "if e<f:\n",
    "    print(\"e menche f\")\n",
    "elif e==f:\n",
    "    print(\"e raven f\")\n",
    "elif e==f + 10:\n",
    "    print(\"e raven f + 10\")\n",
    "elif e>f + 10:\n",
    "    print(\"e bolshe f + 10\")\n",
    "else:\n",
    "    print(\"e bolshe f\")\n"
   ]
  },
  {
   "cell_type": "code",
   "execution_count": 19,
   "id": "ee3a2d8a",
   "metadata": {},
   "outputs": [
    {
     "name": "stdout",
     "output_type": "stream",
     "text": [
      "g bolshe h\n"
     ]
    }
   ],
   "source": [
    "g = 9\n",
    "h = 8\n",
    "if g < h:\n",
    "    print(\"g menshe h\")\n",
    "else:\n",
    "    if g == h:\n",
    "        print(\"g raven h\")\n",
    "    else:\n",
    "        print(\"g bolshe h\")"
   ]
  },
  {
   "cell_type": "code",
   "execution_count": 27,
   "id": "d126ff9f",
   "metadata": {},
   "outputs": [
    {
     "name": "stdout",
     "output_type": "stream",
     "text": [
      "index massu tela: 25.0\n",
      "U Toma est lishniy ves\n"
     ]
    }
   ],
   "source": [
    "name = \"Tom\"\n",
    "height = 2\n",
    "weight = 100\n",
    "\n",
    "imt = weight/(height**2)\n",
    "print (\"index massu tela: \" + str(imt))\n",
    "\n",
    "if imt < 25:\n",
    "    print(\"U \" + name + \"a\" + \" net lishnego vesa\")\n",
    "else:\n",
    "    print(\"U \" + name + \"a\" + \" est lishniy ves\")"
   ]
  },
  {
   "cell_type": "code",
   "execution_count": 28,
   "id": "5aad3bd2",
   "metadata": {},
   "outputs": [
    {
     "data": {
      "text/plain": [
       "False"
      ]
     },
     "execution_count": 28,
     "metadata": {},
     "output_type": "execute_result"
    }
   ],
   "source": [
    "10<5"
   ]
  },
  {
   "cell_type": "code",
   "execution_count": 29,
   "id": "6e31bbbe",
   "metadata": {},
   "outputs": [
    {
     "data": {
      "text/plain": [
       "True"
      ]
     },
     "execution_count": 29,
     "metadata": {},
     "output_type": "execute_result"
    }
   ],
   "source": [
    "10<15"
   ]
  },
  {
   "cell_type": "code",
   "execution_count": 31,
   "id": "a21c4a48",
   "metadata": {},
   "outputs": [
    {
     "name": "stdout",
     "output_type": "stream",
     "text": [
      "False\n"
     ]
    }
   ],
   "source": [
    "my_bool = 10<5\n",
    "print(my_bool)"
   ]
  },
  {
   "cell_type": "code",
   "execution_count": 32,
   "id": "8e2ba4b0",
   "metadata": {},
   "outputs": [
    {
     "data": {
      "text/plain": [
       "bool"
      ]
     },
     "execution_count": 32,
     "metadata": {},
     "output_type": "execute_result"
    }
   ],
   "source": [
    "type(1<2)"
   ]
  },
  {
   "cell_type": "code",
   "execution_count": 33,
   "id": "a0b09343",
   "metadata": {},
   "outputs": [
    {
     "data": {
      "text/plain": [
       "int"
      ]
     },
     "execution_count": 33,
     "metadata": {},
     "output_type": "execute_result"
    }
   ],
   "source": [
    "type(1)"
   ]
  },
  {
   "cell_type": "markdown",
   "id": "ea03dcab",
   "metadata": {},
   "source": [
    "FunctionInPython"
   ]
  },
  {
   "cell_type": "code",
   "execution_count": 34,
   "id": "f6750fb9",
   "metadata": {},
   "outputs": [
    {
     "name": "stdout",
     "output_type": "stream",
     "text": [
      "Hello vne fuction1\n"
     ]
    }
   ],
   "source": [
    "# block coda\n",
    "def function1():\n",
    "    print(\"Hello1\")\n",
    "    print(\"Hello2\")\n",
    "print(\"Hello vne fuction1\")"
   ]
  },
  {
   "cell_type": "code",
   "execution_count": 35,
   "id": "6be9f6a7",
   "metadata": {},
   "outputs": [
    {
     "name": "stdout",
     "output_type": "stream",
     "text": [
      "Hello1\n",
      "Hello2\n"
     ]
    }
   ],
   "source": [
    "function1()"
   ]
  },
  {
   "cell_type": "code",
   "execution_count": 36,
   "id": "67e63bbd",
   "metadata": {},
   "outputs": [
    {
     "name": "stdout",
     "output_type": "stream",
     "text": [
      "Hello1\n",
      "Hello2\n",
      "Hello1\n",
      "Hello2\n"
     ]
    }
   ],
   "source": [
    "function1()\n",
    "function1()"
   ]
  },
  {
   "cell_type": "code",
   "execution_count": 37,
   "id": "3a2917fe",
   "metadata": {},
   "outputs": [],
   "source": [
    "def function2(x):\n",
    "    return 2*x"
   ]
  },
  {
   "cell_type": "code",
   "execution_count": 38,
   "id": "546c306c",
   "metadata": {},
   "outputs": [
    {
     "data": {
      "text/plain": [
       "6"
      ]
     },
     "execution_count": 38,
     "metadata": {},
     "output_type": "execute_result"
    }
   ],
   "source": [
    "function2(3)"
   ]
  },
  {
   "cell_type": "code",
   "execution_count": 39,
   "id": "e6f0ca14",
   "metadata": {},
   "outputs": [
    {
     "name": "stdout",
     "output_type": "stream",
     "text": [
      "3\n"
     ]
    }
   ],
   "source": [
    "print(a)"
   ]
  },
  {
   "cell_type": "code",
   "execution_count": 40,
   "id": "9c90f8dd",
   "metadata": {},
   "outputs": [
    {
     "name": "stdout",
     "output_type": "stream",
     "text": [
      "6\n"
     ]
    }
   ],
   "source": [
    "a= function2(3)\n",
    "print(a)"
   ]
  },
  {
   "cell_type": "code",
   "execution_count": 41,
   "id": "fbe9dafb",
   "metadata": {},
   "outputs": [
    {
     "name": "stdout",
     "output_type": "stream",
     "text": [
      "Hello1\n",
      "Hello2\n",
      "None\n"
     ]
    }
   ],
   "source": [
    "b = function1()\n",
    "print(b)"
   ]
  },
  {
   "cell_type": "code",
   "execution_count": 42,
   "id": "b8016861",
   "metadata": {},
   "outputs": [
    {
     "name": "stdout",
     "output_type": "stream",
     "text": [
      "None\n"
     ]
    }
   ],
   "source": [
    "print(b)"
   ]
  },
  {
   "cell_type": "code",
   "execution_count": 43,
   "id": "7d268337",
   "metadata": {},
   "outputs": [
    {
     "name": "stdout",
     "output_type": "stream",
     "text": [
      "8\n"
     ]
    }
   ],
   "source": [
    "print(function2(4))"
   ]
  },
  {
   "cell_type": "code",
   "execution_count": 44,
   "id": "2e3454dc",
   "metadata": {},
   "outputs": [
    {
     "ename": "TypeError",
     "evalue": "function2() missing 1 required positional argument: 'x'",
     "output_type": "error",
     "traceback": [
      "\u001b[1;31m---------------------------------------------------------------------------\u001b[0m",
      "\u001b[1;31mTypeError\u001b[0m                                 Traceback (most recent call last)",
      "\u001b[1;32m<ipython-input-44-9f9e7aec7a86>\u001b[0m in \u001b[0;36m<module>\u001b[1;34m\u001b[0m\n\u001b[1;32m----> 1\u001b[1;33m \u001b[0md\u001b[0m \u001b[1;33m=\u001b[0m \u001b[0mfunction2\u001b[0m\u001b[1;33m(\u001b[0m\u001b[1;33m)\u001b[0m\u001b[1;33m\u001b[0m\u001b[1;33m\u001b[0m\u001b[0m\n\u001b[0m",
      "\u001b[1;31mTypeError\u001b[0m: function2() missing 1 required positional argument: 'x'"
     ]
    }
   ],
   "source": [
    "d = function2()"
   ]
  },
  {
   "cell_type": "code",
   "execution_count": 45,
   "id": "0eabcecc",
   "metadata": {},
   "outputs": [],
   "source": [
    "def function3(x, y):\n",
    "    return x + y"
   ]
  },
  {
   "cell_type": "code",
   "execution_count": 46,
   "id": "73792abd",
   "metadata": {},
   "outputs": [
    {
     "name": "stdout",
     "output_type": "stream",
     "text": [
      "9\n"
     ]
    }
   ],
   "source": [
    "a = function3(4, 5)\n",
    "print(a)"
   ]
  },
  {
   "cell_type": "code",
   "execution_count": 50,
   "id": "8470cb2f",
   "metadata": {},
   "outputs": [],
   "source": [
    "def function4(some_argument):\n",
    "    print(some_argument)\n",
    "    print(\"dgdfg\")"
   ]
  },
  {
   "cell_type": "code",
   "execution_count": 51,
   "id": "ae7713ca",
   "metadata": {},
   "outputs": [
    {
     "name": "stdout",
     "output_type": "stream",
     "text": [
      "5\n",
      "dgdfg\n"
     ]
    }
   ],
   "source": [
    "function4(5)"
   ]
  },
  {
   "cell_type": "code",
   "execution_count": 52,
   "id": "dd0596ae",
   "metadata": {},
   "outputs": [
    {
     "name": "stdout",
     "output_type": "stream",
     "text": [
      "5\n",
      "dgdfg\n"
     ]
    }
   ],
   "source": [
    "a = function4(5)"
   ]
  },
  {
   "cell_type": "code",
   "execution_count": 53,
   "id": "8d8e0137",
   "metadata": {},
   "outputs": [
    {
     "name": "stdout",
     "output_type": "stream",
     "text": [
      "None\n"
     ]
    }
   ],
   "source": [
    "print(a)"
   ]
  },
  {
   "cell_type": "code",
   "execution_count": 54,
   "id": "bdcb1be2",
   "metadata": {},
   "outputs": [],
   "source": [
    "def function5():\n",
    "    return 5"
   ]
  },
  {
   "cell_type": "code",
   "execution_count": 56,
   "id": "60d37c53",
   "metadata": {},
   "outputs": [
    {
     "data": {
      "text/plain": [
       "5"
      ]
     },
     "execution_count": 56,
     "metadata": {},
     "output_type": "execute_result"
    }
   ],
   "source": [
    "function5()"
   ]
  },
  {
   "cell_type": "code",
   "execution_count": 57,
   "id": "3f24d4da",
   "metadata": {},
   "outputs": [],
   "source": [
    "a = function5()"
   ]
  },
  {
   "cell_type": "code",
   "execution_count": 58,
   "id": "b79cfa40",
   "metadata": {},
   "outputs": [
    {
     "data": {
      "text/plain": [
       "5"
      ]
     },
     "execution_count": 58,
     "metadata": {},
     "output_type": "execute_result"
    }
   ],
   "source": [
    "a"
   ]
  },
  {
   "cell_type": "code",
   "execution_count": 59,
   "id": "25317f57",
   "metadata": {},
   "outputs": [
    {
     "name": "stdout",
     "output_type": "stream",
     "text": [
      "10\n",
      "asd\n",
      "13\n"
     ]
    }
   ],
   "source": [
    "def func7(x):\n",
    "    print(x)\n",
    "    print(\"asd\")\n",
    "    return 3+x\n",
    "a = func7(10)\n",
    "print(a)"
   ]
  },
  {
   "cell_type": "code",
   "execution_count": 60,
   "id": "4aa05195",
   "metadata": {},
   "outputs": [
    {
     "name": "stdout",
     "output_type": "stream",
     "text": [
      "13\n"
     ]
    }
   ],
   "source": [
    "print(a)"
   ]
  },
  {
   "cell_type": "code",
   "execution_count": 65,
   "id": "3a5c46ce",
   "metadata": {},
   "outputs": [],
   "source": [
    "name1 = \"Tom\"\n",
    "height1 = 1.90\n",
    "weight1 = 90\n",
    "\n",
    "name2 = \"John\"\n",
    "height2 = 1.70\n",
    "weight2 = 100\n",
    "\n",
    "name3 = \"Carl\"\n",
    "height3 = 1.85\n",
    "weight3 = 60"
   ]
  },
  {
   "cell_type": "code",
   "execution_count": 66,
   "id": "20816dd0",
   "metadata": {},
   "outputs": [],
   "source": [
    "def imt_calc(name, height, weight):\n",
    "    imt = weight/(height**2)\n",
    "    print(\"Index massu tela: \" + str(imt))\n",
    "    if imt < 25:\n",
    "        return name + \"a\" + \" ne imeet lishnego vesa\"\n",
    "    else:\n",
    "        return name + \"a\" + \" imeet lishniy ves\""
   ]
  },
  {
   "cell_type": "code",
   "execution_count": 67,
   "id": "d319c61c",
   "metadata": {},
   "outputs": [
    {
     "name": "stdout",
     "output_type": "stream",
     "text": [
      "Index massu tela: 24.930747922437675\n",
      "Index massu tela: 34.602076124567475\n",
      "Index massu tela: 17.531044558071585\n"
     ]
    }
   ],
   "source": [
    "imt1 = imt_calc(name1, height1, weight1)\n",
    "imt2 = imt_calc(name2, height2, weight2)\n",
    "imt3 = imt_calc(name3, height3, weight3)"
   ]
  },
  {
   "cell_type": "code",
   "execution_count": 68,
   "id": "8867b8a9",
   "metadata": {},
   "outputs": [
    {
     "name": "stdout",
     "output_type": "stream",
     "text": [
      "Toma ne imeet lishnego vesa\n",
      "Johna imeet lishniy ves\n",
      "Carla ne imeet lishnego vesa\n"
     ]
    }
   ],
   "source": [
    "print(imt1)\n",
    "print(imt2)\n",
    "print(imt3)"
   ]
  },
  {
   "cell_type": "code",
   "execution_count": null,
   "id": "cd4757e0",
   "metadata": {},
   "outputs": [],
   "source": [
    "# convert(miles) mili v kilometru\n",
    "# area(a, b) ploschad pryamougol'nika\n",
    "# is_even(a) chetnoe ili ne chetnoe"
   ]
  },
  {
   "cell_type": "code",
   "execution_count": 69,
   "id": "466ab35e",
   "metadata": {},
   "outputs": [
    {
     "data": {
      "text/plain": [
       "1"
      ]
     },
     "execution_count": 69,
     "metadata": {},
     "output_type": "execute_result"
    }
   ],
   "source": [
    "3%2"
   ]
  },
  {
   "cell_type": "code",
   "execution_count": 70,
   "id": "41672dab",
   "metadata": {},
   "outputs": [
    {
     "data": {
      "text/plain": [
       "0"
      ]
     },
     "execution_count": 70,
     "metadata": {},
     "output_type": "execute_result"
    }
   ],
   "source": [
    "2%2"
   ]
  },
  {
   "cell_type": "code",
   "execution_count": null,
   "id": "3350e881",
   "metadata": {},
   "outputs": [],
   "source": []
  }
 ],
 "metadata": {
  "kernelspec": {
   "display_name": "Python 3",
   "language": "python",
   "name": "python3"
  },
  "language_info": {
   "codemirror_mode": {
    "name": "ipython",
    "version": 3
   },
   "file_extension": ".py",
   "mimetype": "text/x-python",
   "name": "python",
   "nbconvert_exporter": "python",
   "pygments_lexer": "ipython3",
   "version": "3.8.8"
  }
 },
 "nbformat": 4,
 "nbformat_minor": 5
}
